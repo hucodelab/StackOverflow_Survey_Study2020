{
 "cells": [
  {
   "cell_type": "code",
   "execution_count": 1,
   "metadata": {},
   "outputs": [],
   "source": [
    "import numpy as np\n",
    "import pandas as pd"
   ]
  },
  {
   "cell_type": "code",
   "execution_count": 2,
   "metadata": {},
   "outputs": [
    {
     "data": {
      "text/html": [
       "<div>\n",
       "<style scoped>\n",
       "    .dataframe tbody tr th:only-of-type {\n",
       "        vertical-align: middle;\n",
       "    }\n",
       "\n",
       "    .dataframe tbody tr th {\n",
       "        vertical-align: top;\n",
       "    }\n",
       "\n",
       "    .dataframe thead th {\n",
       "        text-align: right;\n",
       "    }\n",
       "</style>\n",
       "<table border=\"1\" class=\"dataframe\">\n",
       "  <thead>\n",
       "    <tr style=\"text-align: right;\">\n",
       "      <th></th>\n",
       "      <th>Respondent</th>\n",
       "      <th>MainBranch</th>\n",
       "      <th>Hobbyist</th>\n",
       "      <th>Age</th>\n",
       "      <th>Age1stCode</th>\n",
       "      <th>CompFreq</th>\n",
       "      <th>CompTotal</th>\n",
       "      <th>ConvertedComp</th>\n",
       "      <th>Country</th>\n",
       "      <th>CurrencyDesc</th>\n",
       "      <th>...</th>\n",
       "      <th>SurveyEase</th>\n",
       "      <th>SurveyLength</th>\n",
       "      <th>Trans</th>\n",
       "      <th>UndergradMajor</th>\n",
       "      <th>WebframeDesireNextYear</th>\n",
       "      <th>WebframeWorkedWith</th>\n",
       "      <th>WelcomeChange</th>\n",
       "      <th>WorkWeekHrs</th>\n",
       "      <th>YearsCode</th>\n",
       "      <th>YearsCodePro</th>\n",
       "    </tr>\n",
       "  </thead>\n",
       "  <tbody>\n",
       "    <tr>\n",
       "      <th>0</th>\n",
       "      <td>1</td>\n",
       "      <td>I am a developer by profession</td>\n",
       "      <td>Yes</td>\n",
       "      <td>NaN</td>\n",
       "      <td>13</td>\n",
       "      <td>Monthly</td>\n",
       "      <td>NaN</td>\n",
       "      <td>NaN</td>\n",
       "      <td>Germany</td>\n",
       "      <td>European Euro</td>\n",
       "      <td>...</td>\n",
       "      <td>Neither easy nor difficult</td>\n",
       "      <td>Appropriate in length</td>\n",
       "      <td>No</td>\n",
       "      <td>Computer science, computer engineering, or sof...</td>\n",
       "      <td>ASP.NET Core</td>\n",
       "      <td>ASP.NET;ASP.NET Core</td>\n",
       "      <td>Just as welcome now as I felt last year</td>\n",
       "      <td>50.0</td>\n",
       "      <td>36</td>\n",
       "      <td>27</td>\n",
       "    </tr>\n",
       "  </tbody>\n",
       "</table>\n",
       "<p>1 rows × 61 columns</p>\n",
       "</div>"
      ],
      "text/plain": [
       "   Respondent                      MainBranch Hobbyist  Age Age1stCode  \\\n",
       "0           1  I am a developer by profession      Yes  NaN         13   \n",
       "\n",
       "  CompFreq  CompTotal  ConvertedComp  Country   CurrencyDesc  ...  \\\n",
       "0  Monthly        NaN            NaN  Germany  European Euro  ...   \n",
       "\n",
       "                   SurveyEase           SurveyLength Trans  \\\n",
       "0  Neither easy nor difficult  Appropriate in length    No   \n",
       "\n",
       "                                      UndergradMajor WebframeDesireNextYear  \\\n",
       "0  Computer science, computer engineering, or sof...           ASP.NET Core   \n",
       "\n",
       "     WebframeWorkedWith                            WelcomeChange WorkWeekHrs  \\\n",
       "0  ASP.NET;ASP.NET Core  Just as welcome now as I felt last year        50.0   \n",
       "\n",
       "  YearsCode YearsCodePro  \n",
       "0        36           27  \n",
       "\n",
       "[1 rows x 61 columns]"
      ]
     },
     "execution_count": 2,
     "metadata": {},
     "output_type": "execute_result"
    }
   ],
   "source": [
    "# Loading the data year 2020\n",
    "df = pd.read_csv('survey_results_public.csv')\n",
    "df.head(1)"
   ]
  },
  {
   "cell_type": "markdown",
   "metadata": {},
   "source": [
    "Because we'll be using the salary (converted compensation) column, we are gonna drop nan values from this column"
   ]
  },
  {
   "cell_type": "code",
   "execution_count": 3,
   "metadata": {},
   "outputs": [
    {
     "data": {
      "image/png": "[encoded data removed]",
      "text/plain": [
       "<Figure size 432x288 with 1 Axes>"
      ]
     },
     "metadata": {
      "needs_background": "light"
     },
     "output_type": "display_data"
    }
   ],
   "source": [
    "hist = df.hist(column=\"ConvertedComp\", bins=500)"
   ]
  },
  {
   "cell_type": "markdown",
   "metadata": {},
   "source": [
    "In the histogram we can see that most of respondent devs have salaries inside the range of 0 - 300000$\n",
    "So, let's filter the respondents to get rid of outliers"
   ]
  },
  {
   "cell_type": "code",
   "execution_count": 4,
   "metadata": {},
   "outputs": [
    {
     "data": {
      "text/html": [
       "<div>\n",
       "<style scoped>\n",
       "    .dataframe tbody tr th:only-of-type {\n",
       "        vertical-align: middle;\n",
       "    }\n",
       "\n",
       "    .dataframe tbody tr th {\n",
       "        vertical-align: top;\n",
       "    }\n",
       "\n",
       "    .dataframe thead th {\n",
       "        text-align: right;\n",
       "    }\n",
       "</style>\n",
       "<table border=\"1\" class=\"dataframe\">\n",
       "  <thead>\n",
       "    <tr style=\"text-align: right;\">\n",
       "      <th></th>\n",
       "      <th>Respondent</th>\n",
       "      <th>MainBranch</th>\n",
       "      <th>Hobbyist</th>\n",
       "      <th>Age</th>\n",
       "      <th>Age1stCode</th>\n",
       "      <th>CompFreq</th>\n",
       "      <th>CompTotal</th>\n",
       "      <th>ConvertedComp</th>\n",
       "      <th>Country</th>\n",
       "      <th>CurrencyDesc</th>\n",
       "      <th>...</th>\n",
       "      <th>SurveyEase</th>\n",
       "      <th>SurveyLength</th>\n",
       "      <th>Trans</th>\n",
       "      <th>UndergradMajor</th>\n",
       "      <th>WebframeDesireNextYear</th>\n",
       "      <th>WebframeWorkedWith</th>\n",
       "      <th>WelcomeChange</th>\n",
       "      <th>WorkWeekHrs</th>\n",
       "      <th>YearsCode</th>\n",
       "      <th>YearsCodePro</th>\n",
       "    </tr>\n",
       "  </thead>\n",
       "  <tbody>\n",
       "    <tr>\n",
       "      <th>0</th>\n",
       "      <td>8</td>\n",
       "      <td>I am a developer by profession</td>\n",
       "      <td>Yes</td>\n",
       "      <td>36.0</td>\n",
       "      <td>12</td>\n",
       "      <td>Yearly</td>\n",
       "      <td>116000.0</td>\n",
       "      <td>116000.0</td>\n",
       "      <td>United States</td>\n",
       "      <td>United States dollar</td>\n",
       "      <td>...</td>\n",
       "      <td>Easy</td>\n",
       "      <td>Appropriate in length</td>\n",
       "      <td>No</td>\n",
       "      <td>Computer science, computer engineering, or sof...</td>\n",
       "      <td>Django;React.js;Vue.js</td>\n",
       "      <td>Flask</td>\n",
       "      <td>Just as welcome now as I felt last year</td>\n",
       "      <td>39.0</td>\n",
       "      <td>17</td>\n",
       "      <td>13</td>\n",
       "    </tr>\n",
       "  </tbody>\n",
       "</table>\n",
       "<p>1 rows × 61 columns</p>\n",
       "</div>"
      ],
      "text/plain": [
       "   Respondent                      MainBranch Hobbyist   Age Age1stCode  \\\n",
       "0           8  I am a developer by profession      Yes  36.0         12   \n",
       "\n",
       "  CompFreq  CompTotal  ConvertedComp        Country          CurrencyDesc  \\\n",
       "0   Yearly   116000.0       116000.0  United States  United States dollar   \n",
       "\n",
       "   ... SurveyEase           SurveyLength Trans  \\\n",
       "0  ...       Easy  Appropriate in length    No   \n",
       "\n",
       "                                      UndergradMajor  WebframeDesireNextYear  \\\n",
       "0  Computer science, computer engineering, or sof...  Django;React.js;Vue.js   \n",
       "\n",
       "  WebframeWorkedWith                            WelcomeChange WorkWeekHrs  \\\n",
       "0              Flask  Just as welcome now as I felt last year        39.0   \n",
       "\n",
       "  YearsCode YearsCodePro  \n",
       "0        17           13  \n",
       "\n",
       "[1 rows x 61 columns]"
      ]
     },
     "execution_count": 4,
     "metadata": {},
     "output_type": "execute_result"
    }
   ],
   "source": [
    "df_salary = df.dropna(subset=['ConvertedComp']).reset_index(drop=True)\n",
    "df_salary.head(1)"
   ]
  },
  {
   "cell_type": "code",
   "execution_count": 5,
   "metadata": {},
   "outputs": [
    {
     "data": {
      "text/plain": [
       "(1620, 567, 34756)"
      ]
     },
     "execution_count": 5,
     "metadata": {},
     "output_type": "execute_result"
    }
   ],
   "source": [
    "# because we're gonna work with annual salaries, let's filter salaries inside the range of 2000 < salary < 300000\n",
    "# to get rid of outliers\n",
    "len(df[df['ConvertedComp'] > 300000]) , len(df[df['ConvertedComp'] < 2000]), len(df.dropna(subset=['ConvertedComp']))"
   ]
  },
  {
   "cell_type": "raw",
   "metadata": {},
   "source": [
    "We can see that just a small fraction of the devs have an annual salary off the range 2000-300000$ and if we make the analysis including all the developers of the survey, then we cannot see major differences in the salaries. So, it is better to remove outliers by just taking developers with salaries between the range 2000-300000$ per year."
   ]
  },
  {
   "cell_type": "code",
   "execution_count": 6,
   "metadata": {},
   "outputs": [
    {
     "data": {
      "image/png": "[encoded data removed]",
      "text/plain": [
       "<Figure size 432x288 with 1 Axes>"
      ]
     },
     "metadata": {
      "needs_background": "light"
     },
     "output_type": "display_data"
    }
   ],
   "source": [
    "df_salary = df_salary[df_salary['ConvertedComp'] < 300000]\n",
    "df_salary = df_salary[df_salary['ConvertedComp'] > 2000]\n",
    "df_salary = df_salary.reset_index(drop=True)\n",
    "\n",
    "hist = df_salary.hist(column=\"ConvertedComp\", bins=500)"
   ]
  },
  {
   "cell_type": "code",
   "execution_count": 7,
   "metadata": {},
   "outputs": [
    {
     "data": {
      "text/plain": [
       "['Python', 'SQL', 'HTML/CSS', 'Java', 'JavaScript']"
      ]
     },
     "execution_count": 7,
     "metadata": {},
     "output_type": "execute_result"
    }
   ],
   "source": [
    "# Here we get a list of the programming languages in the survey\n",
    "\n",
    "def prog_languages():\n",
    "    prog_languages = []\n",
    "    for languages in df_salary['LanguageWorkedWith']:\n",
    "        for language in str(languages).split(\";\"):\n",
    "            if language not in prog_languages:\n",
    "                prog_languages.append(language)\n",
    "    return prog_languages\n",
    "            \n",
    "prog_languages = prog_languages()\n",
    "prog_languages[0:5]"
   ]
  },
  {
   "cell_type": "markdown",
   "metadata": {},
   "source": [
    "# Most popular languages in the labour market in history"
   ]
  },
  {
   "cell_type": "code",
   "execution_count": 8,
   "metadata": {},
   "outputs": [],
   "source": [
    "# here we create a function to count how many devs have worked with each programming language, then we'll be \n",
    "# using this function in the function of the next cell\n",
    "\n",
    "def count_col(language):\n",
    "    # we create an empty list and then we can count how many devs worked with each language\n",
    "    count_col = 0\n",
    "    for languages in list(df_salary['LanguageWorkedWith']):\n",
    "        if language in str(languages):\n",
    "            count_col += 1\n",
    "    return count_col"
   ]
  },
  {
   "cell_type": "code",
   "execution_count": 9,
   "metadata": {},
   "outputs": [],
   "source": [
    "# here we use the count_col(language) function to create a pandas df of how many devs of the survey have worked with\n",
    "# each programming language\n",
    "\n",
    "def count_lang():\n",
    "    # we create an empty dictionary to count how many devs have worked with each programming language using \n",
    "    # the function count_col(language) that we created in the previous cell iterating through every \n",
    "    # programming language\n",
    "    count_lang = dict()\n",
    "    for language in prog_languages:\n",
    "        count_lang[language] = count_col(language)\n",
    "    \n",
    "    # creating the dataframe from the dictionary count_lang\n",
    "    df_count_lang = pd.DataFrame.from_dict(count_lang, orient='index', \n",
    "                               columns=['Number of developers']\n",
    "                                      ).sort_values(by='Number of developers', \n",
    "                                                    ascending=False)\n",
    "    df_count_lang = df_count_lang.drop(['nan'], axis=0)\n",
    "    \n",
    "    return df_count_lang\n",
    "\n",
    "df_count_lang = count_lang()"
   ]
  },
  {
   "cell_type": "code",
   "execution_count": 10,
   "metadata": {},
   "outputs": [
    {
     "data": {
      "text/html": [
       "<div>\n",
       "<style scoped>\n",
       "    .dataframe tbody tr th:only-of-type {\n",
       "        vertical-align: middle;\n",
       "    }\n",
       "\n",
       "    .dataframe tbody tr th {\n",
       "        vertical-align: top;\n",
       "    }\n",
       "\n",
       "    .dataframe thead th {\n",
       "        text-align: right;\n",
       "    }\n",
       "</style>\n",
       "<table border=\"1\" class=\"dataframe\">\n",
       "  <thead>\n",
       "    <tr style=\"text-align: right;\">\n",
       "      <th></th>\n",
       "      <th>Number of developers</th>\n",
       "    </tr>\n",
       "  </thead>\n",
       "  <tbody>\n",
       "    <tr>\n",
       "      <th>Java</th>\n",
       "      <td>25397</td>\n",
       "    </tr>\n",
       "    <tr>\n",
       "      <th>C</th>\n",
       "      <td>25199</td>\n",
       "    </tr>\n",
       "    <tr>\n",
       "      <th>JavaScript</th>\n",
       "      <td>22207</td>\n",
       "    </tr>\n",
       "  </tbody>\n",
       "</table>\n",
       "</div>"
      ],
      "text/plain": [
       "            Number of developers\n",
       "Java                       25397\n",
       "C                          25199\n",
       "JavaScript                 22207"
      ]
     },
     "execution_count": 10,
     "metadata": {},
     "output_type": "execute_result"
    }
   ],
   "source": [
    "df_count_lang.head(3)"
   ]
  },
  {
   "cell_type": "code",
   "execution_count": 11,
   "metadata": {
    "scrolled": true
   },
   "outputs": [
    {
     "data": {
      "image/png": "[encoded data removed]",
      "text/plain": [
       "<Figure size 432x288 with 1 Axes>"
      ]
     },
     "metadata": {
      "needs_background": "light"
     },
     "output_type": "display_data"
    }
   ],
   "source": [
    "import seaborn as sns\n",
    "import matplotlib.pylab as plt\n",
    "\n",
    "ax2 = sns.barplot(x=df_count_lang.head(22).index, y=\"Number of developers\", \n",
    "                 data=df_count_lang.head(22), palette=\"Blues_d\",  \n",
    "                 edgecolor=\".2\", linewidth=2.5)\n",
    "sns.set(rc={'figure.figsize':(14,5)})\n",
    "sns.set_style(\"whitegrid\")\n",
    "ax2.set_title('Number of developers who have recently worked with each programming language', fontsize=14)\n",
    "ax2.tick_params(axis='x', rotation=90)"
   ]
  },
  {
   "cell_type": "markdown",
   "metadata": {},
   "source": [
    "# Salary by programming language"
   ]
  },
  {
   "cell_type": "code",
   "execution_count": 12,
   "metadata": {},
   "outputs": [],
   "source": [
    "# here we get a dictionary with all the salaries of each developer who knows a programming language\n",
    "\n",
    "def sal_by_language():    \n",
    "    # we create an empty dictionary to register all the salaries of each dev who worked with each \n",
    "    # programming language, the keys of this dictionary are each programming language and the values \n",
    "    # are lists of each dev salary (list_sal) \n",
    "    dict_sal = dict()\n",
    "    for language in prog_languages:\n",
    "        list_sal = []\n",
    "        for i in range(df_salary.shape[0]):\n",
    "            if language in str(df_salary['LanguageWorkedWith'][i]):\n",
    "                list_sal.append(df_salary['ConvertedComp'][i])\n",
    "        dict_sal[language] = list_sal\n",
    "    return dict_sal\n",
    "\n",
    "dict_sal = sal_by_language()"
   ]
  },
  {
   "cell_type": "code",
   "execution_count": 13,
   "metadata": {},
   "outputs": [],
   "source": [
    "# here, we get a pandas df with the mean salary of the developers who have worked with each programming \n",
    "# language\n",
    "\n",
    "def mean_sal_by_language():\n",
    "    # we created empty dictionaries to register the mean, standard error, standard deviation, and the number\n",
    "    # of devs (pop) of each programming language\n",
    "    dict_mean_sal = dict()\n",
    "    dict_err_sal = dict()\n",
    "    dict_std_sal = dict()\n",
    "    dict_pop_sal = dict()\n",
    "    \n",
    "    for language in prog_languages:\n",
    "        dict_mean_sal[language] = np.mean(dict_sal[language])\n",
    "        dict_err_sal[language] = np.std(dict_sal[language])/(np.sqrt(len(dict_sal[language])))\n",
    "        dict_std_sal[language] = np.std(dict_sal[language])\n",
    "        dict_pop_sal[language] = len(dict_sal[language])\n",
    "        \n",
    "    # then, we use the dictionaries to create dataframes\n",
    "        \n",
    "    df_mean_salary = pd.DataFrame.from_dict(dict_mean_sal, orient='index', columns=['Mean_salary_($)'])\n",
    "    \n",
    "    df_err_salary = pd.DataFrame.from_dict(dict_err_sal, orient='index', columns=['std_err'])\n",
    "    \n",
    "    df_std_salary = pd.DataFrame.from_dict(dict_std_sal, orient='index', columns=['std'])\n",
    "    \n",
    "    df_pop_salary = pd.DataFrame.from_dict(dict_pop_sal, orient='index', columns=['Population'])\n",
    "    \n",
    "    # and here we join all the dataframes created in the funtion into one dataframe containing all the \n",
    "    # statistical values we compute\n",
    "    \n",
    "    df_mean_err_salary = df_mean_salary.join(df_err_salary).join(df_std_salary).join(df_pop_salary)\n",
    "    \n",
    "    return df_mean_err_salary"
   ]
  },
  {
   "cell_type": "code",
   "execution_count": 14,
   "metadata": {},
   "outputs": [],
   "source": [
    "# here we sort the dataframe by mean salary\n",
    "df_mean_salary = mean_sal_by_language().sort_values(by='Mean_salary_($)', ascending=False)"
   ]
  },
  {
   "cell_type": "code",
   "execution_count": 15,
   "metadata": {},
   "outputs": [
    {
     "data": {
      "text/html": [
       "<div>\n",
       "<style scoped>\n",
       "    .dataframe tbody tr th:only-of-type {\n",
       "        vertical-align: middle;\n",
       "    }\n",
       "\n",
       "    .dataframe tbody tr th {\n",
       "        vertical-align: top;\n",
       "    }\n",
       "\n",
       "    .dataframe thead th {\n",
       "        text-align: right;\n",
       "    }\n",
       "</style>\n",
       "<table border=\"1\" class=\"dataframe\">\n",
       "  <thead>\n",
       "    <tr style=\"text-align: right;\">\n",
       "      <th></th>\n",
       "      <th>Mean_salary_($)</th>\n",
       "      <th>std_err</th>\n",
       "      <th>std</th>\n",
       "      <th>Population</th>\n",
       "    </tr>\n",
       "  </thead>\n",
       "  <tbody>\n",
       "    <tr>\n",
       "      <th>Scala</th>\n",
       "      <td>86076.112687</td>\n",
       "      <td>1643.093523</td>\n",
       "      <td>58531.963715</td>\n",
       "      <td>1269</td>\n",
       "    </tr>\n",
       "    <tr>\n",
       "      <th>Perl</th>\n",
       "      <td>84128.581109</td>\n",
       "      <td>1789.038785</td>\n",
       "      <td>55834.063253</td>\n",
       "      <td>974</td>\n",
       "    </tr>\n",
       "    <tr>\n",
       "      <th>Rust</th>\n",
       "      <td>82509.600000</td>\n",
       "      <td>1450.652351</td>\n",
       "      <td>55901.900526</td>\n",
       "      <td>1485</td>\n",
       "    </tr>\n",
       "    <tr>\n",
       "      <th>Go</th>\n",
       "      <td>82181.394394</td>\n",
       "      <td>1039.210848</td>\n",
       "      <td>57561.400129</td>\n",
       "      <td>3068</td>\n",
       "    </tr>\n",
       "    <tr>\n",
       "      <th>Ruby</th>\n",
       "      <td>78613.346543</td>\n",
       "      <td>1097.231276</td>\n",
       "      <td>54564.507122</td>\n",
       "      <td>2473</td>\n",
       "    </tr>\n",
       "  </tbody>\n",
       "</table>\n",
       "</div>"
      ],
      "text/plain": [
       "       Mean_salary_($)      std_err           std  Population\n",
       "Scala     86076.112687  1643.093523  58531.963715        1269\n",
       "Perl      84128.581109  1789.038785  55834.063253         974\n",
       "Rust      82509.600000  1450.652351  55901.900526        1485\n",
       "Go        82181.394394  1039.210848  57561.400129        3068\n",
       "Ruby      78613.346543  1097.231276  54564.507122        2473"
      ]
     },
     "execution_count": 15,
     "metadata": {},
     "output_type": "execute_result"
    }
   ],
   "source": [
    "df_mean_salary.head()"
   ]
  },
  {
   "cell_type": "markdown",
   "metadata": {},
   "source": [
    "Here we get the salaries of the developers who know each programming language, it's important to note that the developers in the survey can know one or more than one programming language"
   ]
  },
  {
   "cell_type": "code",
   "execution_count": 16,
   "metadata": {},
   "outputs": [
    {
     "data": {
      "image/png": "[encoded data removed]",
      "text/plain": [
       "<Figure size 1008x360 with 1 Axes>"
      ]
     },
     "metadata": {},
     "output_type": "display_data"
    }
   ],
   "source": [
    "# and then we plot\n",
    "\n",
    "import seaborn as sns\n",
    "import matplotlib.pylab as plt\n",
    "\n",
    "ax = sns.barplot(x=df_mean_salary.index[0:23], y=df_mean_salary['Mean_salary_($)'][0:23],\n",
    "                 data=df_mean_salary.head(23), palette=\"Blues_d\",  \n",
    "                 edgecolor=\".2\", linewidth=2.5)\n",
    "\n",
    "sns.set(rc={'figure.figsize':(16,5)})\n",
    "\n",
    "sns.set_style(\"whitegrid\")\n",
    "\n",
    "plt.errorbar(x=df_mean_salary.index[0:23], \n",
    "             y=df_mean_salary['Mean_salary_($)'][0:23],\n",
    "             yerr=df_mean_salary['std_err'][0:23], capsize=8, capthick=2, ls='none', ecolor='black')\n",
    "\n",
    "plt.ylabel('Mean salary ($)')\n",
    "\n",
    "ax.set_title('Mean annual salary by programming language', fontsize=18)\n",
    "\n",
    "ax.tick_params(axis='x', rotation=90)"
   ]
  },
  {
   "cell_type": "markdown",
   "metadata": {},
   "source": [
    "# Can we say that the developers who have some python experience earn more than other developers?"
   ]
  },
  {
   "cell_type": "markdown",
   "metadata": {},
   "source": [
    "In order to answer this question, we'll use hypothesis testing with significancy alpha = 0.05, so Zc = 1.65. Then, all z values over 1.65 means that python salaries are higher\n",
    "\n",
    "    *Python --> n = 13009, x = 68369, s = 52732"
   ]
  },
  {
   "cell_type": "code",
   "execution_count": 17,
   "metadata": {},
   "outputs": [],
   "source": [
    "def test_hypo(language='Python'):\n",
    "    # here we create an empty dictionary to register all the z values of each programming language compared to\n",
    "    # python mean salaries\n",
    "    dict_z = dict()\n",
    "    \n",
    "    for other_lang in prog_languages:\n",
    "        \n",
    "        # we use this equation to calculate the statistical z values\n",
    "        dict_z[other_lang] = (df_mean_salary['Mean_salary_($)'].loc[language]\n",
    "                              - df_mean_salary['Mean_salary_($)'].loc[other_lang])/np.sqrt(\n",
    "            np.square(df_mean_salary['Mean_salary_($)'].loc[language])/len(dict_sal[language]) +\n",
    "            np.square(df_mean_salary['Mean_salary_($)'].loc[other_lang])/len(dict_sal[other_lang]))\n",
    "        \n",
    "    # we then create a pandas dataframe from the dictionary dict_z        \n",
    "    df_z = pd.DataFrame.from_dict(dict_z, orient='index', columns=['z_value'])\n",
    "    \n",
    "    # and here we add a column to automatically define if the salaries of devs who worked \n",
    "    # with the others programming languages have lower mean salaries than the mean salary of python devs with\n",
    "    # confidence level of 95%\n",
    "    df_z['confidence level 95%'] = np.where(df_z['z_value'] > 1.65, \n",
    "                                         \"We can say that the salaries of developers with {} experience are higher\".format(language),\n",
    "                                         \"We can't say that the salaries of developers with {} experience salaries are higher\".format(language))\n",
    "    \n",
    "    return df_z   "
   ]
  },
  {
   "cell_type": "code",
   "execution_count": 18,
   "metadata": {},
   "outputs": [
    {
     "data": {
      "text/html": [
       "<div>\n",
       "<style scoped>\n",
       "    .dataframe tbody tr th:only-of-type {\n",
       "        vertical-align: middle;\n",
       "    }\n",
       "\n",
       "    .dataframe tbody tr th {\n",
       "        vertical-align: top;\n",
       "    }\n",
       "\n",
       "    .dataframe thead th {\n",
       "        text-align: right;\n",
       "    }\n",
       "</style>\n",
       "<table border=\"1\" class=\"dataframe\">\n",
       "  <thead>\n",
       "    <tr style=\"text-align: right;\">\n",
       "      <th></th>\n",
       "      <th>z_value</th>\n",
       "      <th>confidence level 95%</th>\n",
       "    </tr>\n",
       "  </thead>\n",
       "  <tbody>\n",
       "    <tr>\n",
       "      <th>Go</th>\n",
       "      <td>-8.631505</td>\n",
       "      <td>We can't say that the salaries of developers w...</td>\n",
       "    </tr>\n",
       "    <tr>\n",
       "      <th>Scala</th>\n",
       "      <td>-7.112520</td>\n",
       "      <td>We can't say that the salaries of developers w...</td>\n",
       "    </tr>\n",
       "    <tr>\n",
       "      <th>Bash/Shell/PowerShell</th>\n",
       "      <td>-7.095125</td>\n",
       "      <td>We can't say that the salaries of developers w...</td>\n",
       "    </tr>\n",
       "    <tr>\n",
       "      <th>Rust</th>\n",
       "      <td>-6.359695</td>\n",
       "      <td>We can't say that the salaries of developers w...</td>\n",
       "    </tr>\n",
       "    <tr>\n",
       "      <th>Ruby</th>\n",
       "      <td>-6.059288</td>\n",
       "      <td>We can't say that the salaries of developers w...</td>\n",
       "    </tr>\n",
       "  </tbody>\n",
       "</table>\n",
       "</div>"
      ],
      "text/plain": [
       "                        z_value  \\\n",
       "Go                    -8.631505   \n",
       "Scala                 -7.112520   \n",
       "Bash/Shell/PowerShell -7.095125   \n",
       "Rust                  -6.359695   \n",
       "Ruby                  -6.059288   \n",
       "\n",
       "                                                    confidence level 95%  \n",
       "Go                     We can't say that the salaries of developers w...  \n",
       "Scala                  We can't say that the salaries of developers w...  \n",
       "Bash/Shell/PowerShell  We can't say that the salaries of developers w...  \n",
       "Rust                   We can't say that the salaries of developers w...  \n",
       "Ruby                   We can't say that the salaries of developers w...  "
      ]
     },
     "execution_count": 18,
     "metadata": {},
     "output_type": "execute_result"
    }
   ],
   "source": [
    "# So, let's see which languages have mean salaries lower than python devs\n",
    "df_z = test_hypo(language='Python').drop(index='nan').sort_values(by=['z_value'])\n",
    "df_z.head()"
   ]
  },
  {
   "cell_type": "code",
   "execution_count": 19,
   "metadata": {},
   "outputs": [
    {
     "data": {
      "text/html": [
       "<div>\n",
       "<style scoped>\n",
       "    .dataframe tbody tr th:only-of-type {\n",
       "        vertical-align: middle;\n",
       "    }\n",
       "\n",
       "    .dataframe tbody tr th {\n",
       "        vertical-align: top;\n",
       "    }\n",
       "\n",
       "    .dataframe thead th {\n",
       "        text-align: right;\n",
       "    }\n",
       "</style>\n",
       "<table border=\"1\" class=\"dataframe\">\n",
       "  <thead>\n",
       "    <tr style=\"text-align: right;\">\n",
       "      <th></th>\n",
       "      <th>z_value</th>\n",
       "      <th>confidence level 95%</th>\n",
       "    </tr>\n",
       "  </thead>\n",
       "  <tbody>\n",
       "    <tr>\n",
       "      <th>TypeScript</th>\n",
       "      <td>2.654516</td>\n",
       "      <td>We can say that the salaries of developers wit...</td>\n",
       "    </tr>\n",
       "    <tr>\n",
       "      <th>C++</th>\n",
       "      <td>3.575347</td>\n",
       "      <td>We can say that the salaries of developers wit...</td>\n",
       "    </tr>\n",
       "    <tr>\n",
       "      <th>Kotlin</th>\n",
       "      <td>4.322699</td>\n",
       "      <td>We can say that the salaries of developers wit...</td>\n",
       "    </tr>\n",
       "    <tr>\n",
       "      <th>C#</th>\n",
       "      <td>4.881190</td>\n",
       "      <td>We can say that the salaries of developers wit...</td>\n",
       "    </tr>\n",
       "    <tr>\n",
       "      <th>VBA</th>\n",
       "      <td>5.227084</td>\n",
       "      <td>We can say that the salaries of developers wit...</td>\n",
       "    </tr>\n",
       "    <tr>\n",
       "      <th>SQL</th>\n",
       "      <td>6.982350</td>\n",
       "      <td>We can say that the salaries of developers wit...</td>\n",
       "    </tr>\n",
       "    <tr>\n",
       "      <th>C</th>\n",
       "      <td>7.863350</td>\n",
       "      <td>We can say that the salaries of developers wit...</td>\n",
       "    </tr>\n",
       "    <tr>\n",
       "      <th>JavaScript</th>\n",
       "      <td>8.351823</td>\n",
       "      <td>We can say that the salaries of developers wit...</td>\n",
       "    </tr>\n",
       "    <tr>\n",
       "      <th>Java</th>\n",
       "      <td>8.644600</td>\n",
       "      <td>We can say that the salaries of developers wit...</td>\n",
       "    </tr>\n",
       "    <tr>\n",
       "      <th>HTML/CSS</th>\n",
       "      <td>10.445544</td>\n",
       "      <td>We can say that the salaries of developers wit...</td>\n",
       "    </tr>\n",
       "    <tr>\n",
       "      <th>Dart</th>\n",
       "      <td>11.136112</td>\n",
       "      <td>We can say that the salaries of developers wit...</td>\n",
       "    </tr>\n",
       "    <tr>\n",
       "      <th>PHP</th>\n",
       "      <td>22.723316</td>\n",
       "      <td>We can say that the salaries of developers wit...</td>\n",
       "    </tr>\n",
       "  </tbody>\n",
       "</table>\n",
       "</div>"
      ],
      "text/plain": [
       "              z_value                               confidence level 95%\n",
       "TypeScript   2.654516  We can say that the salaries of developers wit...\n",
       "C++          3.575347  We can say that the salaries of developers wit...\n",
       "Kotlin       4.322699  We can say that the salaries of developers wit...\n",
       "C#           4.881190  We can say that the salaries of developers wit...\n",
       "VBA          5.227084  We can say that the salaries of developers wit...\n",
       "SQL          6.982350  We can say that the salaries of developers wit...\n",
       "C            7.863350  We can say that the salaries of developers wit...\n",
       "JavaScript   8.351823  We can say that the salaries of developers wit...\n",
       "Java         8.644600  We can say that the salaries of developers wit...\n",
       "HTML/CSS    10.445544  We can say that the salaries of developers wit...\n",
       "Dart        11.136112  We can say that the salaries of developers wit...\n",
       "PHP         22.723316  We can say that the salaries of developers wit..."
      ]
     },
     "execution_count": 19,
     "metadata": {},
     "output_type": "execute_result"
    }
   ],
   "source": [
    "# then, let's se which languages we can say that developers with some python experience have higher salaries\n",
    "df_z[df_z['z_value']>1.65]"
   ]
  },
  {
   "cell_type": "code",
   "execution_count": 29,
   "metadata": {},
   "outputs": [
    {
     "data": {
      "text/plain": [
       "['TypeScript',\n",
       " 'C++',\n",
       " 'Kotlin',\n",
       " 'C#',\n",
       " 'VBA',\n",
       " 'SQL',\n",
       " 'C',\n",
       " 'JavaScript',\n",
       " 'Java',\n",
       " 'HTML/CSS',\n",
       " 'Dart',\n",
       " 'PHP']"
      ]
     },
     "execution_count": 29,
     "metadata": {},
     "output_type": "execute_result"
    }
   ],
   "source": [
    "# These are languages who have lower salaries than python devs salaries\n",
    "list(df_z[df_z['z_value']>1.65].index)"
   ]
  },
  {
   "cell_type": "markdown",
   "metadata": {},
   "source": [
    "Finally, we can say (with statistical significance = 95%) that developers with some python experience have higher salaries than devs with experience in:\n",
    "\n",
    "'TypeScript', 'C++', 'Kotlin', 'C#', 'VBA', 'SQL', 'C', 'JavaScript', 'Java', 'HTML/CSS', 'Dart', 'PHP'"
   ]
  },
  {
   "cell_type": "markdown",
   "metadata": {},
   "source": [
    "# Programming language and job satisfaction"
   ]
  },
  {
   "cell_type": "code",
   "execution_count": 21,
   "metadata": {},
   "outputs": [
    {
     "data": {
      "text/plain": [
       "array(['Slightly satisfied', 'Very dissatisfied', nan,\n",
       "       'Slightly dissatisfied', 'Very satisfied',\n",
       "       'Neither satisfied nor dissatisfied'], dtype=object)"
      ]
     },
     "execution_count": 21,
     "metadata": {},
     "output_type": "execute_result"
    }
   ],
   "source": [
    "df.JobSat.unique()"
   ]
  },
  {
   "cell_type": "code",
   "execution_count": 22,
   "metadata": {},
   "outputs": [],
   "source": [
    "# In this part, we'll be working with the 'JobSat' (Job Satisfaction) column, so let's drop the nan values\n",
    "df_JobSat = df_salary.dropna(subset=['JobSat', 'LanguageWorkedWith']).reset_index(drop=True)"
   ]
  },
  {
   "cell_type": "code",
   "execution_count": 23,
   "metadata": {},
   "outputs": [
    {
     "data": {
      "text/html": [
       "<div>\n",
       "<style scoped>\n",
       "    .dataframe tbody tr th:only-of-type {\n",
       "        vertical-align: middle;\n",
       "    }\n",
       "\n",
       "    .dataframe tbody tr th {\n",
       "        vertical-align: top;\n",
       "    }\n",
       "\n",
       "    .dataframe thead th {\n",
       "        text-align: right;\n",
       "    }\n",
       "</style>\n",
       "<table border=\"1\" class=\"dataframe\">\n",
       "  <thead>\n",
       "    <tr style=\"text-align: right;\">\n",
       "      <th></th>\n",
       "      <th>LanguageWorkedWith</th>\n",
       "      <th>JobSat</th>\n",
       "    </tr>\n",
       "  </thead>\n",
       "  <tbody>\n",
       "    <tr>\n",
       "      <th>0</th>\n",
       "      <td>Python;SQL</td>\n",
       "      <td>2</td>\n",
       "    </tr>\n",
       "    <tr>\n",
       "      <th>1</th>\n",
       "      <td>HTML/CSS;Java;JavaScript;Python;SQL</td>\n",
       "      <td>5</td>\n",
       "    </tr>\n",
       "  </tbody>\n",
       "</table>\n",
       "</div>"
      ],
      "text/plain": [
       "                    LanguageWorkedWith  JobSat\n",
       "0                           Python;SQL       2\n",
       "1  HTML/CSS;Java;JavaScript;Python;SQL       5"
      ]
     },
     "execution_count": 23,
     "metadata": {},
     "output_type": "execute_result"
    }
   ],
   "source": [
    "# then we need to quantify job satisfaction, so we're gonna replace the cathegorical variable for numbers\n",
    "dict_JobSat = {'Very satisfied':5, 'Slightly satisfied':4, 'Neither satisfied nor dissatisfied':3,\n",
    "               'Slightly dissatisfied':2, 'Very dissatisfied':1}\n",
    "df_JobSat = df_JobSat.replace(dict_JobSat)\n",
    "df_JobSat[['LanguageWorkedWith', 'JobSat']].head(2)"
   ]
  },
  {
   "cell_type": "code",
   "execution_count": 24,
   "metadata": {},
   "outputs": [],
   "source": [
    "# now, we repeat the salaries by language process but with JobSat\n",
    "\n",
    "# here we get a dictionary with all the JobSat values of each developer who knows a programming language\n",
    "\n",
    "def jobsat_by_language(): \n",
    "    # here we create an empty dictionary to register all the job satisfaction values (list of values, list_jobsat) \n",
    "    # corresponding to each programming language (keys)\n",
    "    dict_jobsat = dict()\n",
    "    \n",
    "    for language in prog_languages:        \n",
    "        list_jobsat = []\n",
    "        for i in range(df_JobSat.shape[0]):\n",
    "            if language in str(df_JobSat['LanguageWorkedWith'][i]):\n",
    "                list_jobsat.append(df_JobSat['JobSat'][i])\n",
    "        dict_jobsat[language] = list_jobsat\n",
    "        \n",
    "    return dict_jobsat\n",
    "\n",
    "dict_JobSat = jobsat_by_language()"
   ]
  },
  {
   "cell_type": "code",
   "execution_count": 25,
   "metadata": {},
   "outputs": [
    {
     "name": "stderr",
     "output_type": "stream",
     "text": [
      "/home/hugo/anaconda3/lib/python3.8/site-packages/numpy/core/fromnumeric.py:3372: RuntimeWarning: Mean of empty slice.\n",
      "  return _methods._mean(a, axis=axis, dtype=dtype,\n",
      "/home/hugo/anaconda3/lib/python3.8/site-packages/numpy/core/_methods.py:170: RuntimeWarning: invalid value encountered in double_scalars\n",
      "  ret = ret.dtype.type(ret / rcount)\n",
      "/home/hugo/anaconda3/lib/python3.8/site-packages/numpy/core/_methods.py:233: RuntimeWarning: Degrees of freedom <= 0 for slice\n",
      "  ret = _var(a, axis=axis, dtype=dtype, out=out, ddof=ddof,\n",
      "/home/hugo/anaconda3/lib/python3.8/site-packages/numpy/core/_methods.py:194: RuntimeWarning: invalid value encountered in true_divide\n",
      "  arrmean = um.true_divide(\n",
      "/home/hugo/anaconda3/lib/python3.8/site-packages/numpy/core/_methods.py:226: RuntimeWarning: invalid value encountered in double_scalars\n",
      "  ret = ret.dtype.type(ret / rcount)\n"
     ]
    }
   ],
   "source": [
    "# now we get a pandas df with the mean JobSat of the developers who have worked with each programming \n",
    "# language\n",
    "\n",
    "def mean_jobsat_by_language():\n",
    "    # here we create two empty dictionaries to register the mean and standard error of the job satisfaction\n",
    "    # of each programming language\n",
    "    dict_mean_jobsat = dict()\n",
    "    dict_err_jobsat = dict()\n",
    "    \n",
    "    for language in prog_languages:\n",
    "        dict_mean_jobsat[language] = np.mean(dict_JobSat[language])\n",
    "        dict_err_jobsat[language] = np.std(dict_JobSat[language])/(np.sqrt(len(dict_JobSat[language])))\n",
    "        \n",
    "    # here we create two pandas dataframes from the dictionaries above        \n",
    "    df_mean_jobsat = pd.DataFrame.from_dict(dict_mean_jobsat, orient='index', \n",
    "                               columns=['Mean Job Satisfaction']).sort_values(by='Mean Job Satisfaction',\n",
    "                                                                                  ascending=False)\n",
    "        \n",
    "    df_err_jobsat = pd.DataFrame.from_dict(dict_err_jobsat, orient='index', columns=['std_err'])\n",
    "    \n",
    "    # and then we join the pandas dataframes\n",
    "    df_mean_err_jobsat = df_mean_jobsat.join(df_err_jobsat)\n",
    "    \n",
    "    return df_mean_err_jobsat\n",
    "\n",
    "df_mean_jobsat = mean_jobsat_by_language()"
   ]
  },
  {
   "cell_type": "code",
   "execution_count": 26,
   "metadata": {},
   "outputs": [
    {
     "data": {
      "text/html": [
       "<div>\n",
       "<style scoped>\n",
       "    .dataframe tbody tr th:only-of-type {\n",
       "        vertical-align: middle;\n",
       "    }\n",
       "\n",
       "    .dataframe tbody tr th {\n",
       "        vertical-align: top;\n",
       "    }\n",
       "\n",
       "    .dataframe thead th {\n",
       "        text-align: right;\n",
       "    }\n",
       "</style>\n",
       "<table border=\"1\" class=\"dataframe\">\n",
       "  <thead>\n",
       "    <tr style=\"text-align: right;\">\n",
       "      <th></th>\n",
       "      <th>Mean Job Satisfaction</th>\n",
       "      <th>std_err</th>\n",
       "    </tr>\n",
       "  </thead>\n",
       "  <tbody>\n",
       "    <tr>\n",
       "      <th>Julia</th>\n",
       "      <td>3.816901</td>\n",
       "      <td>0.089308</td>\n",
       "    </tr>\n",
       "    <tr>\n",
       "      <th>Haskell</th>\n",
       "      <td>3.775000</td>\n",
       "      <td>0.055758</td>\n",
       "    </tr>\n",
       "    <tr>\n",
       "      <th>Bash/Shell/PowerShell</th>\n",
       "      <td>3.727242</td>\n",
       "      <td>0.011921</td>\n",
       "    </tr>\n",
       "  </tbody>\n",
       "</table>\n",
       "</div>"
      ],
      "text/plain": [
       "                       Mean Job Satisfaction   std_err\n",
       "Julia                               3.816901  0.089308\n",
       "Haskell                             3.775000  0.055758\n",
       "Bash/Shell/PowerShell               3.727242  0.011921"
      ]
     },
     "execution_count": 26,
     "metadata": {},
     "output_type": "execute_result"
    }
   ],
   "source": [
    "df_mean_jobsat.head(3)"
   ]
  },
  {
   "cell_type": "code",
   "execution_count": 27,
   "metadata": {},
   "outputs": [
    {
     "data": {
      "image/png": "[encoded data removed]",
      "text/plain": [
       "<Figure size 1152x360 with 1 Axes>"
      ]
     },
     "metadata": {},
     "output_type": "display_data"
    }
   ],
   "source": [
    "import seaborn as sns\n",
    "import matplotlib.pylab as plt\n",
    "\n",
    "ax3 = sns.barplot(x=df_mean_jobsat.head(25).index, y=\"Mean Job Satisfaction\", \n",
    "                  data=df_mean_jobsat.head(25), palette=\"Blues_d\",  \n",
    "                  edgecolor=\".2\", linewidth=2.5)\n",
    "\n",
    "sns.set(rc={'figure.figsize':(14,7)})\n",
    "\n",
    "sns.set_style(\"whitegrid\")\n",
    "\n",
    "plt.errorbar(x=df_mean_jobsat.index[0:23], \n",
    "             y=df_mean_jobsat['Mean Job Satisfaction'][0:23],\n",
    "             yerr=df_mean_jobsat['std_err'][0:23], capsize=8, capthick=2, ls='none', ecolor='black')\n",
    "\n",
    "ax3.set(ylim=(0, 5))\n",
    "\n",
    "ax3.set_title('Mean job satisfaction by programming language', fontsize=16)\n",
    "\n",
    "ax3.tick_params(axis='x', rotation=90)"
   ]
  },
  {
   "cell_type": "markdown",
   "metadata": {},
   "source": [
    "Here we can see that the programmng language is more correlated to the salary than to the job satisfaction in the population that was studied"
   ]
  }
 ],
 "metadata": {
  "kernelspec": {
   "display_name": "Python 3",
   "language": "python",
   "name": "python3"
  },
  "language_info": {
   "codemirror_mode": {
    "name": "ipython",
    "version": 3
   },
   "file_extension": ".py",
   "mimetype": "text/x-python",
   "name": "python",
   "nbconvert_exporter": "python",
   "pygments_lexer": "ipython3",
   "version": "3.8.5"
  }
 },
 "nbformat": 4,
 "nbformat_minor": 4
}
